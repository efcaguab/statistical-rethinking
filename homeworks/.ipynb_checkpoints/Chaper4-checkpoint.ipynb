{
 "cells": [
  {
   "cell_type": "markdown",
   "metadata": {},
   "source": [
    "# Chapter 4"
   ]
  },
  {
   "cell_type": "code",
   "execution_count": 1,
   "metadata": {},
   "outputs": [
    {
     "name": "stderr",
     "output_type": "stream",
     "text": [
      "/Library/Frameworks/Python.framework/Versions/3.6/lib/python3.6/site-packages/h5py/__init__.py:36: FutureWarning: Conversion of the second argument of issubdtype from `float` to `np.floating` is deprecated. In future, it will be treated as `np.float64 == np.dtype(float).type`.\n",
      "  from ._conv import register_converters as _register_converters\n"
     ]
    }
   ],
   "source": [
    "import scipy.stats as stats\n",
    "import numpy as np\n",
    "import matplotlib.pyplot as plt\n",
    "import pymc3 as pm\n",
    "import pandas as pd\n",
    "import seaborn as sns"
   ]
  },
  {
   "cell_type": "markdown",
   "metadata": {},
   "source": [
    "## Hard\n",
    "### 4H2"
   ]
  },
  {
   "cell_type": "code",
   "execution_count": 62,
   "metadata": {},
   "outputs": [
    {
     "name": "stderr",
     "output_type": "stream",
     "text": [
      "Auto-assigning NUTS sampler...\n",
      "Initializing NUTS using jitter+adapt_diag...\n",
      "/Library/Frameworks/Python.framework/Versions/3.6/lib/python3.6/site-packages/pymc3/model.py:384: FutureWarning: Conversion of the second argument of issubdtype from `float` to `np.floating` is deprecated. In future, it will be treated as `np.float64 == np.dtype(float).type`.\n",
      "  if not np.issubdtype(var.dtype, float):\n",
      "Multiprocess sampling (2 chains in 2 jobs)\n",
      "NUTS: [beta, alpha, sigma_interval__]\n",
      "100%|██████████| 2000/2000 [00:03<00:00, 515.42it/s]\n",
      "The acceptance probability does not match the target. It is 0.8936988804809947, but should be close to 0.8. Try to increase the number of tuning steps.\n"
     ]
    }
   ],
   "source": [
    "d = pd.read_csv('../data/Howell1.csv', sep=';', header=0)\n",
    "d2 = d[d.age < 18]\n",
    "d2 = d2.sort_values('weight')\n",
    "with pm.Model() as m4H2:\n",
    "    sigma = pm.Uniform('sigma', 0, 50)\n",
    "    alpha = pm.Normal('alpha', 140, 100)\n",
    "    beta = pm.Normal('beta', 10, 10)\n",
    "    mu = pm.Deterministic('mu', alpha + beta * d2.weight)\n",
    "    height = pm.Normal('height', mu, sigma, observed = d2.height)\n",
    "    trace_m4H2 = pm.sample(1000, tune = 1000)"
   ]
  },
  {
   "cell_type": "code",
   "execution_count": 63,
   "metadata": {},
   "outputs": [
    {
     "data": {
      "text/html": [
       "<div>\n",
       "<style scoped>\n",
       "    .dataframe tbody tr th:only-of-type {\n",
       "        vertical-align: middle;\n",
       "    }\n",
       "\n",
       "    .dataframe tbody tr th {\n",
       "        vertical-align: top;\n",
       "    }\n",
       "\n",
       "    .dataframe thead th {\n",
       "        text-align: right;\n",
       "    }\n",
       "</style>\n",
       "<table border=\"1\" class=\"dataframe\">\n",
       "  <thead>\n",
       "    <tr style=\"text-align: right;\">\n",
       "      <th></th>\n",
       "      <th>mean</th>\n",
       "      <th>sd</th>\n",
       "      <th>mc_error</th>\n",
       "      <th>hpd_2.5</th>\n",
       "      <th>hpd_97.5</th>\n",
       "      <th>n_eff</th>\n",
       "      <th>Rhat</th>\n",
       "    </tr>\n",
       "  </thead>\n",
       "  <tbody>\n",
       "    <tr>\n",
       "      <th>alpha</th>\n",
       "      <td>58.201083</td>\n",
       "      <td>1.409810</td>\n",
       "      <td>0.052034</td>\n",
       "      <td>55.452191</td>\n",
       "      <td>60.931330</td>\n",
       "      <td>708.0</td>\n",
       "      <td>1.000070</td>\n",
       "    </tr>\n",
       "    <tr>\n",
       "      <th>beta</th>\n",
       "      <td>2.720789</td>\n",
       "      <td>0.068552</td>\n",
       "      <td>0.002576</td>\n",
       "      <td>2.591079</td>\n",
       "      <td>2.855628</td>\n",
       "      <td>704.0</td>\n",
       "      <td>1.000637</td>\n",
       "    </tr>\n",
       "    <tr>\n",
       "      <th>sigma</th>\n",
       "      <td>8.555221</td>\n",
       "      <td>0.455792</td>\n",
       "      <td>0.011888</td>\n",
       "      <td>7.739834</td>\n",
       "      <td>9.527687</td>\n",
       "      <td>1415.0</td>\n",
       "      <td>0.999750</td>\n",
       "    </tr>\n",
       "    <tr>\n",
       "      <th>mu__0</th>\n",
       "      <td>69.771034</td>\n",
       "      <td>1.152668</td>\n",
       "      <td>0.041491</td>\n",
       "      <td>67.495254</td>\n",
       "      <td>72.004364</td>\n",
       "      <td>740.0</td>\n",
       "      <td>0.999928</td>\n",
       "    </tr>\n",
       "    <tr>\n",
       "      <th>mu__1</th>\n",
       "      <td>71.390827</td>\n",
       "      <td>1.118015</td>\n",
       "      <td>0.040032</td>\n",
       "      <td>69.210835</td>\n",
       "      <td>73.625226</td>\n",
       "      <td>747.0</td>\n",
       "      <td>0.999904</td>\n",
       "    </tr>\n",
       "  </tbody>\n",
       "</table>\n",
       "</div>"
      ],
      "text/plain": [
       "            mean        sd  mc_error    hpd_2.5   hpd_97.5   n_eff      Rhat\n",
       "alpha  58.201083  1.409810  0.052034  55.452191  60.931330   708.0  1.000070\n",
       "beta    2.720789  0.068552  0.002576   2.591079   2.855628   704.0  1.000637\n",
       "sigma   8.555221  0.455792  0.011888   7.739834   9.527687  1415.0  0.999750\n",
       "mu__0  69.771034  1.152668  0.041491  67.495254  72.004364   740.0  0.999928\n",
       "mu__1  71.390827  1.118015  0.040032  69.210835  73.625226   747.0  0.999904"
      ]
     },
     "execution_count": 63,
     "metadata": {},
     "output_type": "execute_result"
    }
   ],
   "source": [
    "pm.summary(trace_m4H2).head()"
   ]
  },
  {
   "cell_type": "code",
   "execution_count": 78,
   "metadata": {},
   "outputs": [
    {
     "name": "stderr",
     "output_type": "stream",
     "text": [
      "100%|██████████| 200/200 [00:00<00:00, 1619.93it/s]\n"
     ]
    },
    {
     "data": {
      "text/plain": [
       "<matplotlib.collections.PolyCollection at 0x11dc93710>"
      ]
     },
     "execution_count": 78,
     "metadata": {},
     "output_type": "execute_result"
    },
    {
     "data": {
      "image/png": "[encoded data removed]",
      "text/plain": [
       "<Figure size 432x288 with 1 Axes>"
      ]
     },
     "metadata": {},
     "output_type": "display_data"
    }
   ],
   "source": [
    "samples = pm.trace_to_dataframe(trace_m4H2)\n",
    "obs_hpd = pm.hpd(pm.sample_ppc(trace_m4H2, 200, m4H2)['height'])\n",
    "mu_hpd = pm.hpd(trace_m4H2['mu'])\n",
    "plt.plot(d2.weight, d2.height, 'o')\n",
    "plt.plot(d2.weight, samples.alpha.mean() + samples.beta.mean() * d2.weight)\n",
    "plt.fill_between(d2.weight, mu_hpd[:,0], mu_hpd[:,1], alpha = 0.5)\n",
    "plt.fill_between(d2.weight, obs_hpd[:,0], obs_hpd[:,1], alpha = 0.5)"
   ]
  },
  {
   "cell_type": "markdown",
   "metadata": {},
   "source": [
    "### 4H3"
   ]
  },
  {
   "cell_type": "code",
   "execution_count": 82,
   "metadata": {},
   "outputs": [
    {
     "name": "stderr",
     "output_type": "stream",
     "text": [
      "Auto-assigning NUTS sampler...\n",
      "Initializing NUTS using jitter+adapt_diag...\n",
      "/Library/Frameworks/Python.framework/Versions/3.6/lib/python3.6/site-packages/pymc3/model.py:384: FutureWarning: Conversion of the second argument of issubdtype from `float` to `np.floating` is deprecated. In future, it will be treated as `np.float64 == np.dtype(float).type`.\n",
      "  if not np.issubdtype(var.dtype, float):\n",
      "Multiprocess sampling (2 chains in 2 jobs)\n",
      "NUTS: [beta, alpha, sigma_interval__]\n",
      "100%|██████████| 2000/2000 [00:09<00:00, 219.20it/s]\n",
      "The number of effective samples is smaller than 25% for some parameters.\n"
     ]
    }
   ],
   "source": [
    "with pm.Model() as m4H3:\n",
    "    sigma = pm.Uniform('sigma', 0, 50)\n",
    "    alpha = pm.Normal('alpha', 178, 100)\n",
    "    beta = pm.Normal('beta', 10, 10)\n",
    "    mu = pm.Deterministic('mu', alpha + beta * np.log(d2.weight))\n",
    "    height = pm.Normal('height', mu, sigma, observed = d2.height)\n",
    "    trace_m4H3 = pm.sample(1000, tune = 1000)"
   ]
  },
  {
   "cell_type": "code",
   "execution_count": 86,
   "metadata": {},
   "outputs": [
    {
     "name": "stderr",
     "output_type": "stream",
     "text": [
      "100%|██████████| 200/200 [00:00<00:00, 1815.31it/s]\n"
     ]
    },
    {
     "data": {
      "text/plain": [
       "<matplotlib.collections.PolyCollection at 0x11cbcd208>"
      ]
     },
     "execution_count": 86,
     "metadata": {},
     "output_type": "execute_result"
    },
    {
     "data": {
      "image/png": "[encoded data removed]",
      "text/plain": [
       "<Figure size 432x288 with 1 Axes>"
      ]
     },
     "metadata": {},
     "output_type": "display_data"
    }
   ],
   "source": [
    "samples = pm.trace_to_dataframe(trace_m4H3)\n",
    "obs_hpd = pm.hpd(pm.sample_ppc(trace_m4H3, 200, m4H3)['height'])\n",
    "mu_hpd = pm.hpd(trace_m4H3['mu'])\n",
    "plt.plot(d2.weight, d2.height, 'o')\n",
    "plt.plot(d2.weight, samples.alpha.mean() + samples.beta.mean() * np.log(d2.weight))\n",
    "plt.fill_between(d2.weight, mu_hpd[:,0], mu_hpd[:,1], alpha = 0.5)\n",
    "plt.fill_between(d2.weight, obs_hpd[:,0], obs_hpd[:,1], alpha = 0.5)"
   ]
  },
  {
   "cell_type": "code",
   "execution_count": 90,
   "metadata": {},
   "outputs": [
    {
     "data": {
      "text/html": [
       "<div>\n",
       "<style scoped>\n",
       "    .dataframe tbody tr th:only-of-type {\n",
       "        vertical-align: middle;\n",
       "    }\n",
       "\n",
       "    .dataframe tbody tr th {\n",
       "        vertical-align: top;\n",
       "    }\n",
       "\n",
       "    .dataframe thead th {\n",
       "        text-align: right;\n",
       "    }\n",
       "</style>\n",
       "<table border=\"1\" class=\"dataframe\">\n",
       "  <thead>\n",
       "    <tr style=\"text-align: right;\">\n",
       "      <th></th>\n",
       "      <th>mean</th>\n",
       "      <th>sd</th>\n",
       "      <th>mc_error</th>\n",
       "      <th>hpd_2.5</th>\n",
       "      <th>hpd_97.5</th>\n",
       "      <th>n_eff</th>\n",
       "      <th>Rhat</th>\n",
       "    </tr>\n",
       "  </thead>\n",
       "  <tbody>\n",
       "    <tr>\n",
       "      <th>alpha</th>\n",
       "      <td>-32.241342</td>\n",
       "      <td>2.018878</td>\n",
       "      <td>0.083580</td>\n",
       "      <td>-36.000893</td>\n",
       "      <td>-28.034699</td>\n",
       "      <td>464.0</td>\n",
       "      <td>1.002214</td>\n",
       "    </tr>\n",
       "    <tr>\n",
       "      <th>beta</th>\n",
       "      <td>50.311060</td>\n",
       "      <td>0.705852</td>\n",
       "      <td>0.029348</td>\n",
       "      <td>48.928784</td>\n",
       "      <td>51.704001</td>\n",
       "      <td>466.0</td>\n",
       "      <td>1.001765</td>\n",
       "    </tr>\n",
       "    <tr>\n",
       "      <th>sigma</th>\n",
       "      <td>4.717689</td>\n",
       "      <td>0.256432</td>\n",
       "      <td>0.007472</td>\n",
       "      <td>4.224330</td>\n",
       "      <td>5.195664</td>\n",
       "      <td>999.0</td>\n",
       "      <td>1.001733</td>\n",
       "    </tr>\n",
       "    <tr>\n",
       "      <th>mu__0</th>\n",
       "      <td>40.583385</td>\n",
       "      <td>1.024062</td>\n",
       "      <td>0.041398</td>\n",
       "      <td>38.318623</td>\n",
       "      <td>42.368445</td>\n",
       "      <td>483.0</td>\n",
       "      <td>1.002549</td>\n",
       "    </tr>\n",
       "    <tr>\n",
       "      <th>mu__1</th>\n",
       "      <td>47.175556</td>\n",
       "      <td>0.936872</td>\n",
       "      <td>0.037613</td>\n",
       "      <td>45.286187</td>\n",
       "      <td>48.983159</td>\n",
       "      <td>489.0</td>\n",
       "      <td>1.002598</td>\n",
       "    </tr>\n",
       "  </tbody>\n",
       "</table>\n",
       "</div>"
      ],
      "text/plain": [
       "            mean        sd  mc_error    hpd_2.5   hpd_97.5  n_eff      Rhat\n",
       "alpha -32.241342  2.018878  0.083580 -36.000893 -28.034699  464.0  1.002214\n",
       "beta   50.311060  0.705852  0.029348  48.928784  51.704001  466.0  1.001765\n",
       "sigma   4.717689  0.256432  0.007472   4.224330   5.195664  999.0  1.001733\n",
       "mu__0  40.583385  1.024062  0.041398  38.318623  42.368445  483.0  1.002549\n",
       "mu__1  47.175556  0.936872  0.037613  45.286187  48.983159  489.0  1.002598"
      ]
     },
     "execution_count": 90,
     "metadata": {},
     "output_type": "execute_result"
    }
   ],
   "source": [
    "pm.summary(trace_m4H3).head()"
   ]
  },
  {
   "cell_type": "code",
   "execution_count": null,
   "metadata": {},
   "outputs": [],
   "source": []
  }
 ],
 "metadata": {
  "kernelspec": {
   "display_name": "Python 3",
   "language": "python",
   "name": "python3"
  },
  "language_info": {
   "codemirror_mode": {
    "name": "ipython",
    "version": 3
   },
   "file_extension": ".py",
   "mimetype": "text/x-python",
   "name": "python",
   "nbconvert_exporter": "python",
   "pygments_lexer": "ipython3",
   "version": "3.6.4"
  }
 },
 "nbformat": 4,
 "nbformat_minor": 2
}
